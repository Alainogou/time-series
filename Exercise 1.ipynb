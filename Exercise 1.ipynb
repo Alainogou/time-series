{
 "cells": [
  {
   "cell_type": "code",
   "execution_count": null,
   "id": "774fb426-2be6-449b-b3e7-da9e5041c65a",
   "metadata": {},
   "outputs": [],
   "source": [
    "#Exercise 1"
   ]
  },
  {
   "cell_type": "code",
   "execution_count": 1,
   "id": "f21f4874-5e2e-40ec-9818-51492087a2e8",
   "metadata": {},
   "outputs": [
    {
     "name": "stdout",
     "output_type": "stream",
     "text": [
      "\n",
      "1\n",
      "\n",
      "2010-01-01       0\n",
      "2010-01-02       1\n",
      "2010-01-03       2\n",
      "2010-01-04       3\n",
      "2010-01-05       4\n",
      "              ... \n",
      "2020-12-27    4013\n",
      "2020-12-28    4014\n",
      "2020-12-29    4015\n",
      "2020-12-30    4016\n",
      "2020-12-31    4017\n",
      "Freq: D, Length: 4018, dtype: int64\n",
      "\n",
      "2\n",
      "\n",
      "2010-01-01       NaN\n",
      "2010-01-02       NaN\n",
      "2010-01-03       NaN\n",
      "2010-01-04       NaN\n",
      "2010-01-05       NaN\n",
      "               ...  \n",
      "2020-12-27    4010.0\n",
      "2020-12-28    4011.0\n",
      "2020-12-29    4012.0\n",
      "2020-12-30    4013.0\n",
      "2020-12-31    4014.0\n",
      "Freq: D, Length: 4018, dtype: float64\n"
     ]
    }
   ],
   "source": [
    "import numpy as np\n",
    "import pandas as pd\n",
    "\n",
    "#1\n",
    "print(\"\\n1\\n\")\n",
    "index= pd.date_range(\"01-01-2010\", \"31-12-2020\")\n",
    "integers=np.arange(0, len(index))\n",
    "integer_series=pd.Series(integers, index=index)\n",
    "print(integer_series)\n",
    "\n",
    "#2\n",
    "print(\"\\n2\\n\")\n",
    "print(integer_series.rolling(7).mean())"
   ]
  }
 ],
 "metadata": {
  "kernelspec": {
   "display_name": "Python 3 (ipykernel)",
   "language": "python",
   "name": "python3"
  },
  "language_info": {
   "codemirror_mode": {
    "name": "ipython",
    "version": 3
   },
   "file_extension": ".py",
   "mimetype": "text/x-python",
   "name": "python",
   "nbconvert_exporter": "python",
   "pygments_lexer": "ipython3",
   "version": "3.8.20"
  }
 },
 "nbformat": 4,
 "nbformat_minor": 5
}
