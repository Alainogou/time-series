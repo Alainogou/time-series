{
 "cells": [
  {
   "cell_type": "code",
   "execution_count": null,
   "id": "774fb426-2be6-449b-b3e7-da9e5041c65a",
   "metadata": {},
   "outputs": [],
   "source": [
    "#Exercise 3"
   ]
  },
  {
   "cell_type": "code",
   "execution_count": 1,
   "id": "ff243819-9261-4d2f-852d-c889f4b2c379",
   "metadata": {},
   "outputs": [
    {
     "name": "stdout",
     "output_type": "stream",
     "text": [
      "Ticker          AAPL      AMZN        DAI        FB        GE\n",
      "Date                                                         \n",
      "2021-01-01       NaN       NaN        NaN       NaN       NaN\n",
      "2021-01-04 -2.150022 -1.719123  -0.822418  0.361122  0.189644\n",
      "2021-01-05  1.201228  1.101910 -17.571714 -1.937935 -0.794683\n",
      "2021-01-06 -3.274665 -0.547480  -1.195591 -1.636327 -5.134227\n",
      "2021-01-07 -0.916030 -1.474886  -1.351641 -0.052791  0.828297\n"
     ]
    }
   ],
   "source": [
    "#Exercise 3\n",
    "import numpy as np\n",
    "import pandas as pd\n",
    "\n",
    "#create business dates\n",
    "business_dates = pd.bdate_range('2021-01-01', '2021-12-31')\n",
    "\n",
    "#generate tickers\n",
    "tickers = ['AAPL', 'FB', 'GE', 'AMZN', 'DAI']\n",
    "\n",
    "#create indexs\n",
    "index = pd.MultiIndex.from_product([business_dates, tickers], names=['Date', 'Ticker'])\n",
    "\n",
    "# create DFs\n",
    "market_data = pd.DataFrame(index=index,\n",
    "                        data=np.random.randn(len(index), 1),\n",
    "                        columns=['Price'])\n",
    "\n",
    "market= market_data.pivot_table(values=\"Price\", index=\"Date\", columns=\"Ticker\").pct_change()\n",
    "print(market.head())\n",
    "\n"
   ]
  }
 ],
 "metadata": {
  "kernelspec": {
   "display_name": "Python 3 (ipykernel)",
   "language": "python",
   "name": "python3"
  },
  "language_info": {
   "codemirror_mode": {
    "name": "ipython",
    "version": 3
   },
   "file_extension": ".py",
   "mimetype": "text/x-python",
   "name": "python",
   "nbconvert_exporter": "python",
   "pygments_lexer": "ipython3",
   "version": "3.8.20"
  }
 },
 "nbformat": 4,
 "nbformat_minor": 5
}
