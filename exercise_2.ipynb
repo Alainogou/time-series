{
 "cells": [
  {
   "cell_type": "code",
   "execution_count": null,
   "id": "f06a42f7-170d-427a-8247-d755135ae690",
   "metadata": {},
   "outputs": [],
   "source": []
  }
 ],
 "metadata": {
  "kernelspec": {
   "display_name": "",
   "name": ""
  },
  "language_info": {
   "name": ""
  }
 },
 "nbformat": 4,
 "nbformat_minor": 5
}
